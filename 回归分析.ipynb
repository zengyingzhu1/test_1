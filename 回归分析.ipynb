{
 "cells": [
  {
   "cell_type": "code",
   "execution_count": 1,
   "id": "64450a8f",
   "metadata": {},
   "outputs": [
    {
     "name": "stdout",
     "output_type": "stream",
     "text": [
      "[[230.1  37.8  69.2  22.1]\n",
      " [ 44.5  39.3  45.1  10.4]\n",
      " [ 17.2  45.9  69.3   9.3]\n",
      " [151.5  41.3  58.5  18.5]\n",
      " [180.8  10.8  58.4  12.9]]\n"
     ]
    }
   ],
   "source": [
    "import pandas as pd    #读取数据\n",
    "filename='advertising.csv'\n",
    "data=pd.read_csv(filename,index_col=0)\n",
    "print(data.iloc[0:5,:].values)\n"
   ]
  },
  {
   "cell_type": "code",
   "execution_count": 4,
   "id": "42c6ecc7",
   "metadata": {},
   "outputs": [
    {
     "data": {
      "image/png": "[encoded data removed]",
      "text/plain": [
       "<Figure size 640x480 with 1 Axes>"
      ]
     },
     "metadata": {},
     "output_type": "display_data"
    }
   ],
   "source": [
    "#可视化分析\n",
    "#导入绘图库\n",
    "import matplotlib.pyplot as plt\n",
    "data.plot(kind='scatter',x='TV',y='Sales',title='Sales with Advertising on TV',xlabel='TV',ylabel='sales')\n",
    "plt.show()\n"
   ]
  },
  {
   "cell_type": "code",
   "execution_count": 9,
   "id": "23a5c565",
   "metadata": {},
   "outputs": [
    {
     "name": "stdout",
     "output_type": "stream",
     "text": [
      "2.9388893694594067 [ 0.04576465  0.18853002 -0.00103749]\n"
     ]
    }
   ],
   "source": [
    "#建立3个自变量和目标变量之间的线性回归模型\n",
    "x= data.iloc[: ,0:3].values.astype (float)\n",
    "y= data.iloc[: ,3].values.astype (float)\n",
    "from sklearn.linear_model import LinearRegression \n",
    "linreg=LinearRegression ()\n",
    "linreg.fit(x,y)\n",
    "print(linreg.intercept_,linreg.coef_)   #截距和回归系数\n",
    "\n"
   ]
  },
  {
   "cell_type": "code",
   "execution_count": 12,
   "id": "1569f7ad",
   "metadata": {},
   "outputs": [
    {
     "name": "stdout",
     "output_type": "stream",
     "text": [
      "6月广告投入： [[130.1  87.8  69.2]]\n",
      "预期销售： [25.37401071]\n"
     ]
    }
   ],
   "source": [
    "import joblib#这个包的作用就是保存和加载模型\n",
    "joblib.dump(linreg, 'linreg.pkl') #保存至文件 dump\n",
    "#重新加载预测数据\n",
    "import numpy as np\n",
    "load_linreg = joblib.load('linreg.pkl') #从文件读取  load模型\n",
    "new_X = np.array([[130.1,87.8,69.2]])\n",
    "print(\"6月广告投入：\",new_X)\n",
    "print(\"预期销售：\",load_linreg.predict(new_X) ) #使用   xxx.predict()模型预测"
   ]
  },
  {
   "cell_type": "code",
   "execution_count": 18,
   "id": "5133425a",
   "metadata": {},
   "outputs": [
    {
     "name": "stdout",
     "output_type": "stream",
     "text": [
      "2.9324713466040873 [0.04608839 0.18047646 0.00411699]\n",
      "The mean squar error of train and test are: 3.06, 2.32\n",
      "The decision coeficient is: 0.91 \n"
     ]
    }
   ],
   "source": [
    "#模型评估\n",
    "#1.切分为训练集和测试集\n",
    "from sklearn import model_selection \n",
    "X_train,X_test,y_train,y_test=model_selection.train_test_split(x,y,test_size=0.35,random_state=1)\n",
    "#在训练集上学习\n",
    "linregTr = LinearRegression() \n",
    "linregTr.fit(X_train, y_train)\n",
    "print (linregTr.intercept_, linregTr.coef_)\n",
    "#在测试集上评估\n",
    "from sklearn import metrics\n",
    "y_train_pred = linregTr.predict(X_train)\n",
    "y_test_pred = linregTr.predict(X_test)\n",
    "train_err = metrics.mean_squared_error(y_train, y_train_pred)    #训练集误差\n",
    "test_err = metrics.mean_squared_error(y_test, y_test_pred)   #测试集误差\n",
    "print( 'The mean squar error of train and test are: {:.2f}, {:.2f}'.format(train_err, test_err) )\n",
    "predict_score =linregTr.score(X_test,y_test)#决定系数\n",
    "print('The decision coeficient is: {:.2f} '.format(predict_score) )"
   ]
  },
  {
   "cell_type": "code",
   "execution_count": 19,
   "id": "d7655826",
   "metadata": {},
   "outputs": [
    {
     "data": {
      "text/html": [
       "<div>\n",
       "<style scoped>\n",
       "    .dataframe tbody tr th:only-of-type {\n",
       "        vertical-align: middle;\n",
       "    }\n",
       "\n",
       "    .dataframe tbody tr th {\n",
       "        vertical-align: top;\n",
       "    }\n",
       "\n",
       "    .dataframe thead th {\n",
       "        text-align: right;\n",
       "    }\n",
       "</style>\n",
       "<table border=\"1\" class=\"dataframe\">\n",
       "  <thead>\n",
       "    <tr style=\"text-align: right;\">\n",
       "      <th></th>\n",
       "      <th>CRIM</th>\n",
       "      <th>ZN</th>\n",
       "      <th>INDUS</th>\n",
       "      <th>CHAS</th>\n",
       "      <th>NOX</th>\n",
       "      <th>RM</th>\n",
       "      <th>AGE</th>\n",
       "      <th>DIS</th>\n",
       "      <th>RAD</th>\n",
       "      <th>TAX</th>\n",
       "      <th>PIRATIO</th>\n",
       "      <th>B</th>\n",
       "      <th>LSTAT</th>\n",
       "      <th>MEDV</th>\n",
       "    </tr>\n",
       "  </thead>\n",
       "  <tbody>\n",
       "    <tr>\n",
       "      <th>0</th>\n",
       "      <td>0.00632</td>\n",
       "      <td>18.0</td>\n",
       "      <td>2.31</td>\n",
       "      <td>0.0</td>\n",
       "      <td>0.538</td>\n",
       "      <td>6.575</td>\n",
       "      <td>65.2</td>\n",
       "      <td>4.0900</td>\n",
       "      <td>1</td>\n",
       "      <td>296.0</td>\n",
       "      <td>15.3</td>\n",
       "      <td>396.90</td>\n",
       "      <td>4.98</td>\n",
       "      <td>24.0</td>\n",
       "    </tr>\n",
       "    <tr>\n",
       "      <th>1</th>\n",
       "      <td>0.02731</td>\n",
       "      <td>0.0</td>\n",
       "      <td>7.07</td>\n",
       "      <td>0.0</td>\n",
       "      <td>0.469</td>\n",
       "      <td>6.421</td>\n",
       "      <td>78.9</td>\n",
       "      <td>4.9671</td>\n",
       "      <td>2</td>\n",
       "      <td>242.0</td>\n",
       "      <td>17.8</td>\n",
       "      <td>396.90</td>\n",
       "      <td>9.14</td>\n",
       "      <td>21.6</td>\n",
       "    </tr>\n",
       "    <tr>\n",
       "      <th>2</th>\n",
       "      <td>0.02729</td>\n",
       "      <td>0.0</td>\n",
       "      <td>7.07</td>\n",
       "      <td>0.0</td>\n",
       "      <td>0.469</td>\n",
       "      <td>7.185</td>\n",
       "      <td>61.1</td>\n",
       "      <td>4.9671</td>\n",
       "      <td>2</td>\n",
       "      <td>242.0</td>\n",
       "      <td>17.8</td>\n",
       "      <td>392.83</td>\n",
       "      <td>4.03</td>\n",
       "      <td>34.7</td>\n",
       "    </tr>\n",
       "    <tr>\n",
       "      <th>3</th>\n",
       "      <td>0.03237</td>\n",
       "      <td>0.0</td>\n",
       "      <td>2.18</td>\n",
       "      <td>0.0</td>\n",
       "      <td>0.458</td>\n",
       "      <td>6.998</td>\n",
       "      <td>45.8</td>\n",
       "      <td>6.0622</td>\n",
       "      <td>3</td>\n",
       "      <td>222.0</td>\n",
       "      <td>18.7</td>\n",
       "      <td>394.63</td>\n",
       "      <td>2.94</td>\n",
       "      <td>33.4</td>\n",
       "    </tr>\n",
       "    <tr>\n",
       "      <th>4</th>\n",
       "      <td>0.06905</td>\n",
       "      <td>0.0</td>\n",
       "      <td>2.18</td>\n",
       "      <td>0.0</td>\n",
       "      <td>0.458</td>\n",
       "      <td>7.147</td>\n",
       "      <td>54.2</td>\n",
       "      <td>6.0622</td>\n",
       "      <td>3</td>\n",
       "      <td>222.0</td>\n",
       "      <td>18.7</td>\n",
       "      <td>396.90</td>\n",
       "      <td>5.33</td>\n",
       "      <td>36.2</td>\n",
       "    </tr>\n",
       "  </tbody>\n",
       "</table>\n",
       "</div>"
      ],
      "text/plain": [
       "      CRIM    ZN  INDUS  CHAS    NOX     RM   AGE     DIS  RAD    TAX  \\\n",
       "0  0.00632  18.0   2.31   0.0  0.538  6.575  65.2  4.0900    1  296.0   \n",
       "1  0.02731   0.0   7.07   0.0  0.469  6.421  78.9  4.9671    2  242.0   \n",
       "2  0.02729   0.0   7.07   0.0  0.469  7.185  61.1  4.9671    2  242.0   \n",
       "3  0.03237   0.0   2.18   0.0  0.458  6.998  45.8  6.0622    3  222.0   \n",
       "4  0.06905   0.0   2.18   0.0  0.458  7.147  54.2  6.0622    3  222.0   \n",
       "\n",
       "   PIRATIO       B  LSTAT  MEDV  \n",
       "0     15.3  396.90   4.98  24.0  \n",
       "1     17.8  396.90   9.14  21.6  \n",
       "2     17.8  392.83   4.03  34.7  \n",
       "3     18.7  394.63   2.94  33.4  \n",
       "4     18.7  396.90   5.33  36.2  "
      ]
     },
     "metadata": {},
     "output_type": "display_data"
    },
    {
     "data": {
      "text/html": [
       "<div>\n",
       "<style scoped>\n",
       "    .dataframe tbody tr th:only-of-type {\n",
       "        vertical-align: middle;\n",
       "    }\n",
       "\n",
       "    .dataframe tbody tr th {\n",
       "        vertical-align: top;\n",
       "    }\n",
       "\n",
       "    .dataframe thead th {\n",
       "        text-align: right;\n",
       "    }\n",
       "</style>\n",
       "<table border=\"1\" class=\"dataframe\">\n",
       "  <thead>\n",
       "    <tr style=\"text-align: right;\">\n",
       "      <th></th>\n",
       "      <th>CRIM</th>\n",
       "      <th>ZN</th>\n",
       "      <th>INDUS</th>\n",
       "      <th>CHAS</th>\n",
       "      <th>NOX</th>\n",
       "      <th>RM</th>\n",
       "      <th>AGE</th>\n",
       "      <th>DIS</th>\n",
       "      <th>RAD</th>\n",
       "      <th>TAX</th>\n",
       "      <th>PIRATIO</th>\n",
       "      <th>B</th>\n",
       "      <th>LSTAT</th>\n",
       "      <th>MEDV</th>\n",
       "    </tr>\n",
       "  </thead>\n",
       "  <tbody>\n",
       "    <tr>\n",
       "      <th>32</th>\n",
       "      <td>1.38799</td>\n",
       "      <td>0.0</td>\n",
       "      <td>8.14</td>\n",
       "      <td>0.0</td>\n",
       "      <td>0.538</td>\n",
       "      <td>5.950</td>\n",
       "      <td>82.0</td>\n",
       "      <td>3.9900</td>\n",
       "      <td>4</td>\n",
       "      <td>307.0</td>\n",
       "      <td>21.0</td>\n",
       "      <td>232.60</td>\n",
       "      <td>27.71</td>\n",
       "      <td>13.2</td>\n",
       "    </tr>\n",
       "    <tr>\n",
       "      <th>111</th>\n",
       "      <td>0.10084</td>\n",
       "      <td>0.0</td>\n",
       "      <td>10.01</td>\n",
       "      <td>0.0</td>\n",
       "      <td>0.547</td>\n",
       "      <td>6.715</td>\n",
       "      <td>81.6</td>\n",
       "      <td>2.6775</td>\n",
       "      <td>6</td>\n",
       "      <td>432.0</td>\n",
       "      <td>17.8</td>\n",
       "      <td>395.59</td>\n",
       "      <td>10.16</td>\n",
       "      <td>22.8</td>\n",
       "    </tr>\n",
       "    <tr>\n",
       "      <th>300</th>\n",
       "      <td>0.04417</td>\n",
       "      <td>70.0</td>\n",
       "      <td>2.24</td>\n",
       "      <td>0.0</td>\n",
       "      <td>0.400</td>\n",
       "      <td>6.871</td>\n",
       "      <td>47.4</td>\n",
       "      <td>7.8278</td>\n",
       "      <td>5</td>\n",
       "      <td>358.0</td>\n",
       "      <td>14.8</td>\n",
       "      <td>390.86</td>\n",
       "      <td>6.07</td>\n",
       "      <td>24.8</td>\n",
       "    </tr>\n",
       "    <tr>\n",
       "      <th>233</th>\n",
       "      <td>0.33147</td>\n",
       "      <td>0.0</td>\n",
       "      <td>6.20</td>\n",
       "      <td>0.0</td>\n",
       "      <td>0.507</td>\n",
       "      <td>8.247</td>\n",
       "      <td>70.4</td>\n",
       "      <td>3.6519</td>\n",
       "      <td>8</td>\n",
       "      <td>307.0</td>\n",
       "      <td>17.4</td>\n",
       "      <td>378.95</td>\n",
       "      <td>3.95</td>\n",
       "      <td>48.3</td>\n",
       "    </tr>\n",
       "    <tr>\n",
       "      <th>22</th>\n",
       "      <td>1.23247</td>\n",
       "      <td>0.0</td>\n",
       "      <td>8.14</td>\n",
       "      <td>0.0</td>\n",
       "      <td>0.538</td>\n",
       "      <td>6.142</td>\n",
       "      <td>91.7</td>\n",
       "      <td>3.9769</td>\n",
       "      <td>4</td>\n",
       "      <td>307.0</td>\n",
       "      <td>21.0</td>\n",
       "      <td>396.90</td>\n",
       "      <td>18.72</td>\n",
       "      <td>15.2</td>\n",
       "    </tr>\n",
       "  </tbody>\n",
       "</table>\n",
       "</div>"
      ],
      "text/plain": [
       "        CRIM    ZN  INDUS  CHAS    NOX     RM   AGE     DIS  RAD    TAX  \\\n",
       "32   1.38799   0.0   8.14   0.0  0.538  5.950  82.0  3.9900    4  307.0   \n",
       "111  0.10084   0.0  10.01   0.0  0.547  6.715  81.6  2.6775    6  432.0   \n",
       "300  0.04417  70.0   2.24   0.0  0.400  6.871  47.4  7.8278    5  358.0   \n",
       "233  0.33147   0.0   6.20   0.0  0.507  8.247  70.4  3.6519    8  307.0   \n",
       "22   1.23247   0.0   8.14   0.0  0.538  6.142  91.7  3.9769    4  307.0   \n",
       "\n",
       "     PIRATIO       B  LSTAT  MEDV  \n",
       "32      21.0  232.60  27.71  13.2  \n",
       "111     17.8  395.59  10.16  22.8  \n",
       "300     14.8  390.86   6.07  24.8  \n",
       "233     17.4  378.95   3.95  48.3  \n",
       "22      21.0  396.90  18.72  15.2  "
      ]
     },
     "metadata": {},
     "output_type": "display_data"
    }
   ],
   "source": [
    "#读取数据\n",
    "boston_housing = pd.read_csv('boston_housing_data.csv') # 导入数据集\n",
    "display(boston_housing.head())\n",
    "boston_housing = boston_housing.sample(frac=1) # 对数据进行打乱\n",
    "display(boston_housing.head())"
   ]
  },
  {
   "cell_type": "code",
   "execution_count": 20,
   "id": "b4d8768e",
   "metadata": {},
   "outputs": [
    {
     "data": {
      "text/plain": [
       "(506, 14)"
      ]
     },
     "metadata": {},
     "output_type": "display_data"
    },
    {
     "data": {
      "text/plain": [
       "CRIM       False\n",
       "ZN         False\n",
       "INDUS      False\n",
       "CHAS       False\n",
       "NOX        False\n",
       "RM         False\n",
       "AGE        False\n",
       "DIS        False\n",
       "RAD        False\n",
       "TAX        False\n",
       "PIRATIO    False\n",
       "B          False\n",
       "LSTAT      False\n",
       "MEDV        True\n",
       "dtype: bool"
      ]
     },
     "metadata": {},
     "output_type": "display_data"
    },
    {
     "data": {
      "text/plain": [
       "(452, 14)"
      ]
     },
     "metadata": {},
     "output_type": "display_data"
    }
   ],
   "source": [
    "#空值数据预处理\n",
    "display(boston_housing.shape)\n",
    "display(boston_housing.isnull().any())   #检查每一列是否有缺失值\n",
    "boston_housing.dropna(inplace=True)\n",
    "display(boston_housing.shape)"
   ]
  },
  {
   "cell_type": "code",
   "execution_count": 9,
   "id": "4f06bc48",
   "metadata": {},
   "outputs": [
    {
     "ename": "NameError",
     "evalue": "name 'boston_housing' is not defined",
     "output_type": "error",
     "traceback": [
      "\u001b[1;31m---------------------------------------------------------------------------\u001b[0m",
      "\u001b[1;31mNameError\u001b[0m                                 Traceback (most recent call last)",
      "Cell \u001b[1;32mIn[9], line 5\u001b[0m\n\u001b[0;32m      3\u001b[0m \u001b[38;5;28;01mimport\u001b[39;00m \u001b[38;5;21;01mmatplotlib\u001b[39;00m\u001b[38;5;21;01m.\u001b[39;00m\u001b[38;5;21;01mpyplot\u001b[39;00m \u001b[38;5;28;01mas\u001b[39;00m \u001b[38;5;21;01mplt\u001b[39;00m\n\u001b[0;32m      4\u001b[0m  \u001b[38;5;66;03m#（散点图矩阵这种不行）boston_housing.plot(kind='scatter_matrix',diagonal='kde',color='k')\u001b[39;00m\n\u001b[1;32m----> 5\u001b[0m pd\u001b[38;5;241m.\u001b[39mplotting\u001b[38;5;241m.\u001b[39mscatter_matrix(boston_housing,diagonal\u001b[38;5;241m=\u001b[39m\u001b[38;5;124m'\u001b[39m\u001b[38;5;124mkde\u001b[39m\u001b[38;5;124m'\u001b[39m,color\u001b[38;5;241m=\u001b[39m\u001b[38;5;124m'\u001b[39m\u001b[38;5;124mk\u001b[39m\u001b[38;5;124m'\u001b[39m)\n\u001b[0;32m      6\u001b[0m plt\u001b[38;5;241m.\u001b[39mshow()\n",
      "\u001b[1;31mNameError\u001b[0m: name 'boston_housing' is not defined"
     ]
    }
   ],
   "source": [
    "#绘图观察数据\n",
    "import pandas as pd\n",
    "import matplotlib.pyplot as plt\n",
    " #（散点图矩阵这种不行）boston_housing.plot(kind='scatter_matrix',diagonal='kde',color='k')\n",
    "pd.plotting.scatter_matrix(boston_housing,diagonal='kde',color='k')\n",
    "plt.show()"
   ]
  },
  {
   "cell_type": "code",
   "execution_count": 5,
   "id": "1bef288e",
   "metadata": {},
   "outputs": [
    {
     "ename": "SyntaxError",
     "evalue": "invalid syntax (3467983657.py, line 12)",
     "output_type": "error",
     "traceback": [
      "\u001b[1;36m  Cell \u001b[1;32mIn[5], line 12\u001b[1;36m\u001b[0m\n\u001b[1;33m    fromsklearn.linear_modelimportLinearRegression linreg=LinearRegression()\u001b[0m\n\u001b[1;37m                                                   ^\u001b[0m\n\u001b[1;31mSyntaxError\u001b[0m\u001b[1;31m:\u001b[0m invalid syntax\n"
     ]
    }
   ],
   "source": [
    "train_num=int(boston_housing.shape[0]*0.8)  #shape[0]表示总数\n",
    "X_train = boston_housing.iloc[:train_num,:-1].values.astype(float) \n",
    "# 训练集为前80%的数据\n",
    "y_train = boston_housing.iloc[:train_num,-1].values.astype(float) \n",
    "# train_x为特征列，train_y为真实值列\n",
    "X_test = boston_housing.iloc[train_num:,:-1].values.astype(float) \n",
    "# 测试集为剩余数据\n",
    "y_test = boston_housing.iloc[train_num:,-1].values.astype(float)\n",
    "\n",
    "fromsklearn.linear_modelimportLinearRegression linreg=LinearRegression()\n",
    "linreg.fit(X_train,y_train)\n",
    "#输出线性回归模型的截距和回归系数 \n",
    "display(linreg.intercept_,linreg.coef_)"
   ]
  },
  {
   "cell_type": "code",
   "execution_count": null,
   "id": "8df8e821",
   "metadata": {},
   "outputs": [],
   "source": [
    "#预测结果图形比较 \n",
    "%matplotlibinline \n",
    "importmatplotlib.pyplotasplt \n",
    "fig=plt.figure(figsize=(8,5))#画一个窗口为8,5大小的\n",
    "plt.plot(y_test,label='真实值')   #画测试集的真实值\n",
    "plt.plot(y_test_pred,label='预测值')   #画测试机的预测值\n",
    "plt.legend()  #画标签\n",
    "plt.show()"
   ]
  }
 ],
 "metadata": {
  "kernelspec": {
   "display_name": "Python 3 (ipykernel)",
   "language": "python",
   "name": "python3"
  },
  "language_info": {
   "codemirror_mode": {
    "name": "ipython",
    "version": 3
   },
   "file_extension": ".py",
   "mimetype": "text/x-python",
   "name": "python",
   "nbconvert_exporter": "python",
   "pygments_lexer": "ipython3",
   "version": "3.11.4"
  }
 },
 "nbformat": 4,
 "nbformat_minor": 5
}
